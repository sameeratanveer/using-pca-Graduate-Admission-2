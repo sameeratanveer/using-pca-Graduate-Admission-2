{
 "cells": [
  {
   "cell_type": "code",
   "execution_count": 1,
   "id": "cd21d18e-86bc-4a77-b013-b8ff3e5c3d9b",
   "metadata": {},
   "outputs": [],
   "source": [
    "# importing libraries. \n",
    "import numpy as np \n",
    "import pandas as pd \n",
    "import matplotlib.pyplot as plt \n",
    "import seaborn as sns"
   ]
  },
  {
   "cell_type": "code",
   "execution_count": 2,
   "id": "398a5925-50fc-4b57-a185-3621b3eae9c8",
   "metadata": {},
   "outputs": [
    {
     "data": {
      "text/html": [
       "<div>\n",
       "<style scoped>\n",
       "    .dataframe tbody tr th:only-of-type {\n",
       "        vertical-align: middle;\n",
       "    }\n",
       "\n",
       "    .dataframe tbody tr th {\n",
       "        vertical-align: top;\n",
       "    }\n",
       "\n",
       "    .dataframe thead th {\n",
       "        text-align: right;\n",
       "    }\n",
       "</style>\n",
       "<table border=\"1\" class=\"dataframe\">\n",
       "  <thead>\n",
       "    <tr style=\"text-align: right;\">\n",
       "      <th></th>\n",
       "      <th>Serial No.</th>\n",
       "      <th>GRE Score</th>\n",
       "      <th>TOEFL Score</th>\n",
       "      <th>University Rating</th>\n",
       "      <th>SOP</th>\n",
       "      <th>LOR</th>\n",
       "      <th>CGPA</th>\n",
       "      <th>Research</th>\n",
       "      <th>Chance of Admit</th>\n",
       "    </tr>\n",
       "  </thead>\n",
       "  <tbody>\n",
       "    <tr>\n",
       "      <th>0</th>\n",
       "      <td>1</td>\n",
       "      <td>337</td>\n",
       "      <td>118</td>\n",
       "      <td>4</td>\n",
       "      <td>4.5</td>\n",
       "      <td>4.5</td>\n",
       "      <td>9.65</td>\n",
       "      <td>1</td>\n",
       "      <td>0.92</td>\n",
       "    </tr>\n",
       "    <tr>\n",
       "      <th>1</th>\n",
       "      <td>2</td>\n",
       "      <td>324</td>\n",
       "      <td>107</td>\n",
       "      <td>4</td>\n",
       "      <td>4.0</td>\n",
       "      <td>4.5</td>\n",
       "      <td>8.87</td>\n",
       "      <td>1</td>\n",
       "      <td>0.76</td>\n",
       "    </tr>\n",
       "    <tr>\n",
       "      <th>2</th>\n",
       "      <td>3</td>\n",
       "      <td>316</td>\n",
       "      <td>104</td>\n",
       "      <td>3</td>\n",
       "      <td>3.0</td>\n",
       "      <td>3.5</td>\n",
       "      <td>8.00</td>\n",
       "      <td>1</td>\n",
       "      <td>0.72</td>\n",
       "    </tr>\n",
       "  </tbody>\n",
       "</table>\n",
       "</div>"
      ],
      "text/plain": [
       "   Serial No.  GRE Score  TOEFL Score  University Rating  SOP  LOR   CGPA  \\\n",
       "0           1        337          118                  4  4.5   4.5  9.65   \n",
       "1           2        324          107                  4  4.0   4.5  8.87   \n",
       "2           3        316          104                  3  3.0   3.5  8.00   \n",
       "\n",
       "   Research  Chance of Admit   \n",
       "0         1              0.92  \n",
       "1         1              0.76  \n",
       "2         1              0.72  "
      ]
     },
     "execution_count": 2,
     "metadata": {},
     "output_type": "execute_result"
    }
   ],
   "source": [
    "# loading the dataset \n",
    "df = pd.read_csv('Admission_Predict_Ver1.1.csv')\n",
    "df.head(3)"
   ]
  },
  {
   "cell_type": "markdown",
   "id": "03adde7f-a56d-4461-9e76-35c4616b2fe7",
   "metadata": {},
   "source": [
    "# Let us first understand these columns meaning. \n",
    "1. GRE score - how much the student has scored in GRE test out of 340. \n",
    "2. TOEFL score - how much the student has scored in TOEFL test out of 120. \n",
    "3. University rating - the university rating they are applying to. \n",
    "4. SOP - Statement of purpose strength out of 5. \n",
    "5. LOR - Letter of Recommendation strength out of 5. \n",
    "6. CGPA - undergraduate CGPA out of 10. \n",
    "7. Research - whether the student have any research experience (either 0 or 1)\n",
    "8. Chance of Admit - probability of getting in range 0 to 1. "
   ]
  },
  {
   "cell_type": "code",
   "execution_count": 4,
   "id": "8d70c7c3-b9a1-43fb-b6ed-f886d04bb5a8",
   "metadata": {},
   "outputs": [],
   "source": [
    "# the serial no column is unnecessary. So,let's drop that. \n",
    "df = df.drop('Serial No.', axis=1)"
   ]
  },
  {
   "cell_type": "code",
   "execution_count": 5,
   "id": "069c08e3-cf38-4fba-9580-99bde6750b4b",
   "metadata": {},
   "outputs": [
    {
     "name": "stdout",
     "output_type": "stream",
     "text": [
      "No of rows : 500, No of columns : 8\n",
      "<class 'pandas.core.frame.DataFrame'>\n",
      "RangeIndex: 500 entries, 0 to 499\n",
      "Data columns (total 8 columns):\n",
      " #   Column             Non-Null Count  Dtype  \n",
      "---  ------             --------------  -----  \n",
      " 0   GRE Score          500 non-null    int64  \n",
      " 1   TOEFL Score        500 non-null    int64  \n",
      " 2   University Rating  500 non-null    int64  \n",
      " 3   SOP                500 non-null    float64\n",
      " 4   LOR                500 non-null    float64\n",
      " 5   CGPA               500 non-null    float64\n",
      " 6   Research           500 non-null    int64  \n",
      " 7   Chance of Admit    500 non-null    float64\n",
      "dtypes: float64(4), int64(4)\n",
      "memory usage: 31.4 KB\n",
      "Basic information of the df :\n",
      "None\n",
      "Descriptive statistics of the numerical columns :\n",
      "        GRE Score  TOEFL Score  University Rating         SOP       LOR   \\\n",
      "count  500.000000   500.000000         500.000000  500.000000  500.00000   \n",
      "mean   316.472000   107.192000           3.114000    3.374000    3.48400   \n",
      "std     11.295148     6.081868           1.143512    0.991004    0.92545   \n",
      "min    290.000000    92.000000           1.000000    1.000000    1.00000   \n",
      "25%    308.000000   103.000000           2.000000    2.500000    3.00000   \n",
      "50%    317.000000   107.000000           3.000000    3.500000    3.50000   \n",
      "75%    325.000000   112.000000           4.000000    4.000000    4.00000   \n",
      "max    340.000000   120.000000           5.000000    5.000000    5.00000   \n",
      "\n",
      "             CGPA    Research  Chance of Admit   \n",
      "count  500.000000  500.000000         500.00000  \n",
      "mean     8.576440    0.560000           0.72174  \n",
      "std      0.604813    0.496884           0.14114  \n",
      "min      6.800000    0.000000           0.34000  \n",
      "25%      8.127500    0.000000           0.63000  \n",
      "50%      8.560000    1.000000           0.72000  \n",
      "75%      9.040000    1.000000           0.82000  \n",
      "max      9.920000    1.000000           0.97000  \n",
      "No of Null values : GRE Score            0\n",
      "TOEFL Score          0\n",
      "University Rating    0\n",
      "SOP                  0\n",
      "LOR                  0\n",
      "CGPA                 0\n",
      "Research             0\n",
      "Chance of Admit      0\n",
      "dtype: int64\n",
      "No. of Duplicates : 0\n"
     ]
    }
   ],
   "source": [
    "# Basic overview of dataset. \n",
    "print(f\"No of rows : {df.shape[0]}, No of columns : {df.shape[1]}\")\n",
    "print(f\"Basic information of the df :\\n{df.info()}\")\n",
    "print(f\"Descriptive statistics of the numerical columns :\\n{df.describe()}\")\n",
    "print(f\"No of Null values : {df.isnull().sum()}\")\n",
    "print(f\"No. of Duplicates : {df.duplicated().sum()}\")"
   ]
  },
  {
   "cell_type": "code",
   "execution_count": 6,
   "id": "86f8822a-fc80-4935-bb54-cb5a910ec141",
   "metadata": {},
   "outputs": [],
   "source": [
    "# Our data is all numerical - in a format which our ml model accepts. \n",
    "# Our data does not have any null values or niether duplicates to deal with. \n",
    "# But from the topic itself we understand that our model have a linear data, by \n",
    "# that i mean, if our teofl score or our lor strength, our cgpa , the greater it is, \n",
    "# the acceptance chance is more. Isnt this explains that our data is \n",
    "# quite simple and linear. "
   ]
  },
  {
   "cell_type": "code",
   "execution_count": 7,
   "id": "acdb6117-f059-4a74-bc4f-be01f5dae458",
   "metadata": {},
   "outputs": [],
   "source": [
    "# Let's now split our data : \n",
    "X = df.drop('Chance of Admit ', axis=1)\n",
    "y = df['Chance of Admit ']"
   ]
  },
  {
   "cell_type": "code",
   "execution_count": 8,
   "id": "68f2ec77-37c5-471e-b7af-6fc6fc0962d6",
   "metadata": {},
   "outputs": [],
   "source": [
    "# We will now use PCA to understand the data and correlation. \n",
    "# The prerequisite for PCA is to scale your data. \n",
    "from sklearn.preprocessing import StandardScaler\n",
    "X_scaled = StandardScaler().fit_transform(X)"
   ]
  },
  {
   "cell_type": "code",
   "execution_count": 9,
   "id": "871c02c8-976e-4a87-942d-a431388690ac",
   "metadata": {},
   "outputs": [],
   "source": [
    "# Now let's apply PCA. \n",
    "from sklearn.decomposition import PCA \n",
    "pca = PCA(n_components=2)\n",
    "pca_x = pca.fit_transform(X_scaled)"
   ]
  },
  {
   "cell_type": "code",
   "execution_count": 10,
   "id": "155aa752-bf6f-4659-b2de-b65beaf41df4",
   "metadata": {},
   "outputs": [],
   "source": [
    "pca_x_df = pd.DataFrame(pca_x, columns=['PC1', 'PC2'])"
   ]
  },
  {
   "cell_type": "code",
   "execution_count": 11,
   "id": "ce7ca622-4c02-417c-a357-c8056939adf9",
   "metadata": {},
   "outputs": [
    {
     "data": {
      "text/html": [
       "<div>\n",
       "<style scoped>\n",
       "    .dataframe tbody tr th:only-of-type {\n",
       "        vertical-align: middle;\n",
       "    }\n",
       "\n",
       "    .dataframe tbody tr th {\n",
       "        vertical-align: top;\n",
       "    }\n",
       "\n",
       "    .dataframe thead th {\n",
       "        text-align: right;\n",
       "    }\n",
       "</style>\n",
       "<table border=\"1\" class=\"dataframe\">\n",
       "  <thead>\n",
       "    <tr style=\"text-align: right;\">\n",
       "      <th></th>\n",
       "      <th>PC1</th>\n",
       "      <th>PC2</th>\n",
       "    </tr>\n",
       "  </thead>\n",
       "  <tbody>\n",
       "    <tr>\n",
       "      <th>0</th>\n",
       "      <td>-3.568375</td>\n",
       "      <td>-0.328318</td>\n",
       "    </tr>\n",
       "    <tr>\n",
       "      <th>1</th>\n",
       "      <td>-1.639199</td>\n",
       "      <td>0.034550</td>\n",
       "    </tr>\n",
       "    <tr>\n",
       "      <th>2</th>\n",
       "      <td>0.550991</td>\n",
       "      <td>-0.720794</td>\n",
       "    </tr>\n",
       "    <tr>\n",
       "      <th>3</th>\n",
       "      <td>-0.345470</td>\n",
       "      <td>-1.280237</td>\n",
       "    </tr>\n",
       "    <tr>\n",
       "      <th>4</th>\n",
       "      <td>2.035804</td>\n",
       "      <td>0.039366</td>\n",
       "    </tr>\n",
       "    <tr>\n",
       "      <th>...</th>\n",
       "      <td>...</td>\n",
       "      <td>...</td>\n",
       "    </tr>\n",
       "    <tr>\n",
       "      <th>495</th>\n",
       "      <td>-2.438060</td>\n",
       "      <td>-0.020361</td>\n",
       "    </tr>\n",
       "    <tr>\n",
       "      <th>496</th>\n",
       "      <td>-4.373303</td>\n",
       "      <td>0.306942</td>\n",
       "    </tr>\n",
       "    <tr>\n",
       "      <th>497</th>\n",
       "      <td>-3.910724</td>\n",
       "      <td>0.256798</td>\n",
       "    </tr>\n",
       "    <tr>\n",
       "      <th>498</th>\n",
       "      <td>-0.245327</td>\n",
       "      <td>2.135250</td>\n",
       "    </tr>\n",
       "    <tr>\n",
       "      <th>499</th>\n",
       "      <td>-1.873791</td>\n",
       "      <td>1.515791</td>\n",
       "    </tr>\n",
       "  </tbody>\n",
       "</table>\n",
       "<p>500 rows × 2 columns</p>\n",
       "</div>"
      ],
      "text/plain": [
       "          PC1       PC2\n",
       "0   -3.568375 -0.328318\n",
       "1   -1.639199  0.034550\n",
       "2    0.550991 -0.720794\n",
       "3   -0.345470 -1.280237\n",
       "4    2.035804  0.039366\n",
       "..        ...       ...\n",
       "495 -2.438060 -0.020361\n",
       "496 -4.373303  0.306942\n",
       "497 -3.910724  0.256798\n",
       "498 -0.245327  2.135250\n",
       "499 -1.873791  1.515791\n",
       "\n",
       "[500 rows x 2 columns]"
      ]
     },
     "execution_count": 11,
     "metadata": {},
     "output_type": "execute_result"
    }
   ],
   "source": [
    "pca_x_df"
   ]
  },
  {
   "cell_type": "code",
   "execution_count": 12,
   "id": "438b83e2-8460-42b2-9ffe-1529a22ecef1",
   "metadata": {},
   "outputs": [
    {
     "data": {
      "text/plain": [
       "<matplotlib.collections.PathCollection at 0x22cef915ed0>"
      ]
     },
     "execution_count": 12,
     "metadata": {},
     "output_type": "execute_result"
    },
    {
     "data": {
      "image/png": "[encoded data removed]",
      "text/plain": [
       "<Figure size 1400x1000 with 1 Axes>"
      ]
     },
     "metadata": {},
     "output_type": "display_data"
    }
   ],
   "source": [
    "plt.figure(figsize=(14,10))\n",
    "plt.scatter(pca_x_df['PC1'],pca_x_df['PC2'])"
   ]
  },
  {
   "cell_type": "code",
   "execution_count": 13,
   "id": "85f326ae-e731-4b44-b000-1904854a8166",
   "metadata": {},
   "outputs": [
    {
     "name": "stdout",
     "output_type": "stream",
     "text": [
      "347\n",
      "273\n"
     ]
    }
   ],
   "source": [
    "# Let's check : \n",
    "pca_max = np.argmax(pca_x_df['PC1'])\n",
    "pca_min = np.argmin(pca_x_df['PC2'])\n",
    "print(pca_max)\n",
    "print(pca_min)"
   ]
  },
  {
   "cell_type": "code",
   "execution_count": 14,
   "id": "3571a081-9cd4-410b-a738-457e7d66fcf4",
   "metadata": {},
   "outputs": [
    {
     "data": {
      "text/plain": [
       "GRE Score            299.00\n",
       "TOEFL Score           94.00\n",
       "University Rating      1.00\n",
       "SOP                    1.00\n",
       "LOR                    1.00\n",
       "CGPA                   7.34\n",
       "Research               0.00\n",
       "Name: 347, dtype: float64"
      ]
     },
     "execution_count": 14,
     "metadata": {},
     "output_type": "execute_result"
    }
   ],
   "source": [
    "X.iloc[pca_max,:]"
   ]
  },
  {
   "cell_type": "code",
   "execution_count": 15,
   "id": "158a7d62-8d99-4b5b-a452-ff9bbe830e0f",
   "metadata": {},
   "outputs": [
    {
     "data": {
      "text/plain": [
       "GRE Score            312.00\n",
       "TOEFL Score           99.00\n",
       "University Rating      1.00\n",
       "SOP                    1.00\n",
       "LOR                    1.50\n",
       "CGPA                   8.01\n",
       "Research               1.00\n",
       "Name: 273, dtype: float64"
      ]
     },
     "execution_count": 15,
     "metadata": {},
     "output_type": "execute_result"
    }
   ],
   "source": [
    "X.iloc[pca_min, :]"
   ]
  },
  {
   "cell_type": "code",
   "execution_count": 16,
   "id": "8053795c-901a-4e02-907f-038e8d620a99",
   "metadata": {},
   "outputs": [],
   "source": [
    "# Here is the very strong corellation in predicting the acceptance : \n",
    "# The less the PC1 value, the more chances of acceptance. \n",
    "# and vice versa. \n",
    "# This is how, the pca reduces dimensionality and creates new features without affecting \n",
    "# the actual relation and variance. "
   ]
  },
  {
   "cell_type": "code",
   "execution_count": 17,
   "id": "4198b47f-b334-4dd0-9c69-d15a9029049e",
   "metadata": {},
   "outputs": [],
   "source": [
    "# Now let us spli the data \n",
    "from sklearn.model_selection import train_test_split \n",
    "X_train, X_test, y_train, y_test = train_test_split(X_scaled, y, test_size=0.3, random_state=42)"
   ]
  },
  {
   "cell_type": "code",
   "execution_count": 18,
   "id": "75133863-42f3-4fd7-b574-a8ae64ef3c7b",
   "metadata": {},
   "outputs": [
    {
     "data": {
      "text/html": [
       "<style>#sk-container-id-1 {color: black;background-color: white;}#sk-container-id-1 pre{padding: 0;}#sk-container-id-1 div.sk-toggleable {background-color: white;}#sk-container-id-1 label.sk-toggleable__label {cursor: pointer;display: block;width: 100%;margin-bottom: 0;padding: 0.3em;box-sizing: border-box;text-align: center;}#sk-container-id-1 label.sk-toggleable__label-arrow:before {content: \"▸\";float: left;margin-right: 0.25em;color: #696969;}#sk-container-id-1 label.sk-toggleable__label-arrow:hover:before {color: black;}#sk-container-id-1 div.sk-estimator:hover label.sk-toggleable__label-arrow:before {color: black;}#sk-container-id-1 div.sk-toggleable__content {max-height: 0;max-width: 0;overflow: hidden;text-align: left;background-color: #f0f8ff;}#sk-container-id-1 div.sk-toggleable__content pre {margin: 0.2em;color: black;border-radius: 0.25em;background-color: #f0f8ff;}#sk-container-id-1 input.sk-toggleable__control:checked~div.sk-toggleable__content {max-height: 200px;max-width: 100%;overflow: auto;}#sk-container-id-1 input.sk-toggleable__control:checked~label.sk-toggleable__label-arrow:before {content: \"▾\";}#sk-container-id-1 div.sk-estimator input.sk-toggleable__control:checked~label.sk-toggleable__label {background-color: #d4ebff;}#sk-container-id-1 div.sk-label input.sk-toggleable__control:checked~label.sk-toggleable__label {background-color: #d4ebff;}#sk-container-id-1 input.sk-hidden--visually {border: 0;clip: rect(1px 1px 1px 1px);clip: rect(1px, 1px, 1px, 1px);height: 1px;margin: -1px;overflow: hidden;padding: 0;position: absolute;width: 1px;}#sk-container-id-1 div.sk-estimator {font-family: monospace;background-color: #f0f8ff;border: 1px dotted black;border-radius: 0.25em;box-sizing: border-box;margin-bottom: 0.5em;}#sk-container-id-1 div.sk-estimator:hover {background-color: #d4ebff;}#sk-container-id-1 div.sk-parallel-item::after {content: \"\";width: 100%;border-bottom: 1px solid gray;flex-grow: 1;}#sk-container-id-1 div.sk-label:hover label.sk-toggleable__label {background-color: #d4ebff;}#sk-container-id-1 div.sk-serial::before {content: \"\";position: absolute;border-left: 1px solid gray;box-sizing: border-box;top: 0;bottom: 0;left: 50%;z-index: 0;}#sk-container-id-1 div.sk-serial {display: flex;flex-direction: column;align-items: center;background-color: white;padding-right: 0.2em;padding-left: 0.2em;position: relative;}#sk-container-id-1 div.sk-item {position: relative;z-index: 1;}#sk-container-id-1 div.sk-parallel {display: flex;align-items: stretch;justify-content: center;background-color: white;position: relative;}#sk-container-id-1 div.sk-item::before, #sk-container-id-1 div.sk-parallel-item::before {content: \"\";position: absolute;border-left: 1px solid gray;box-sizing: border-box;top: 0;bottom: 0;left: 50%;z-index: -1;}#sk-container-id-1 div.sk-parallel-item {display: flex;flex-direction: column;z-index: 1;position: relative;background-color: white;}#sk-container-id-1 div.sk-parallel-item:first-child::after {align-self: flex-end;width: 50%;}#sk-container-id-1 div.sk-parallel-item:last-child::after {align-self: flex-start;width: 50%;}#sk-container-id-1 div.sk-parallel-item:only-child::after {width: 0;}#sk-container-id-1 div.sk-dashed-wrapped {border: 1px dashed gray;margin: 0 0.4em 0.5em 0.4em;box-sizing: border-box;padding-bottom: 0.4em;background-color: white;}#sk-container-id-1 div.sk-label label {font-family: monospace;font-weight: bold;display: inline-block;line-height: 1.2em;}#sk-container-id-1 div.sk-label-container {text-align: center;}#sk-container-id-1 div.sk-container {/* jupyter's `normalize.less` sets `[hidden] { display: none; }` but bootstrap.min.css set `[hidden] { display: none !important; }` so we also need the `!important` here to be able to override the default hidden behavior on the sphinx rendered scikit-learn.org. See: https://github.com/scikit-learn/scikit-learn/issues/21755 */display: inline-block !important;position: relative;}#sk-container-id-1 div.sk-text-repr-fallback {display: none;}</style><div id=\"sk-container-id-1\" class=\"sk-top-container\"><div class=\"sk-text-repr-fallback\"><pre>LinearRegression()</pre><b>In a Jupyter environment, please rerun this cell to show the HTML representation or trust the notebook. <br />On GitHub, the HTML representation is unable to render, please try loading this page with nbviewer.org.</b></div><div class=\"sk-container\" hidden><div class=\"sk-item\"><div class=\"sk-estimator sk-toggleable\"><input class=\"sk-toggleable__control sk-hidden--visually\" id=\"sk-estimator-id-1\" type=\"checkbox\" checked><label for=\"sk-estimator-id-1\" class=\"sk-toggleable__label sk-toggleable__label-arrow\">LinearRegression</label><div class=\"sk-toggleable__content\"><pre>LinearRegression()</pre></div></div></div></div></div>"
      ],
      "text/plain": [
       "LinearRegression()"
      ]
     },
     "execution_count": 18,
     "metadata": {},
     "output_type": "execute_result"
    }
   ],
   "source": [
    "from sklearn.linear_model import LinearRegression \n",
    "model = LinearRegression()\n",
    "model.fit(X_train, y_train)"
   ]
  },
  {
   "cell_type": "code",
   "execution_count": 19,
   "id": "5e8a55f1-5156-48db-8588-242a93c90c86",
   "metadata": {},
   "outputs": [
    {
     "data": {
      "text/plain": [
       "0.825630603991949"
      ]
     },
     "execution_count": 19,
     "metadata": {},
     "output_type": "execute_result"
    }
   ],
   "source": [
    "# Let's see how well our model performed? \n",
    "model.score(X_test, y_test)"
   ]
  },
  {
   "cell_type": "code",
   "execution_count": 20,
   "id": "992ff5a5-cb2f-4abb-93bf-f4e68fbb0aaf",
   "metadata": {},
   "outputs": [],
   "source": [
    "predictions = model.predict(X_test)"
   ]
  },
  {
   "cell_type": "code",
   "execution_count": 21,
   "id": "9435a4be-839e-4010-a433-e83a1ccc0974",
   "metadata": {},
   "outputs": [
    {
     "data": {
      "text/plain": [
       "Text(0, 0.5, 'Actual values')"
      ]
     },
     "execution_count": 21,
     "metadata": {},
     "output_type": "execute_result"
    },
    {
     "data": {
      "image/png": "[encoded data removed]",
      "text/plain": [
       "<Figure size 640x480 with 1 Axes>"
      ]
     },
     "metadata": {},
     "output_type": "display_data"
    }
   ],
   "source": [
    "#plotting:\n",
    "plt.plot(predictions, y_test, 'o')\n",
    "plt.xlabel('Predicted values')\n",
    "plt.ylabel('Actual values')"
   ]
  },
  {
   "cell_type": "code",
   "execution_count": null,
   "id": "af15422d-a3ce-4b78-86ee-b994c729b76d",
   "metadata": {},
   "outputs": [],
   "source": []
  },
  {
   "cell_type": "code",
   "execution_count": null,
   "id": "cb48a78b-b2a9-44d1-90f9-3a543ec8c1bf",
   "metadata": {},
   "outputs": [],
   "source": []
  },
  {
   "cell_type": "code",
   "execution_count": null,
   "id": "59caae4f-5f76-4ba7-a0c8-3d4a41822ca8",
   "metadata": {},
   "outputs": [],
   "source": []
  },
  {
   "cell_type": "code",
   "execution_count": null,
   "id": "70b457d4-6ae5-4c29-9edf-82892b47d02d",
   "metadata": {},
   "outputs": [],
   "source": []
  },
  {
   "cell_type": "code",
   "execution_count": null,
   "id": "f667fe54-59a3-46af-be4f-c6f34a184124",
   "metadata": {},
   "outputs": [],
   "source": []
  }
 ],
 "metadata": {
  "kernelspec": {
   "display_name": "Python 3 (ipykernel)",
   "language": "python",
   "name": "python3"
  },
  "language_info": {
   "codemirror_mode": {
    "name": "ipython",
    "version": 3
   },
   "file_extension": ".py",
   "mimetype": "text/x-python",
   "name": "python",
   "nbconvert_exporter": "python",
   "pygments_lexer": "ipython3",
   "version": "3.11.7"
  }
 },
 "nbformat": 4,
 "nbformat_minor": 5
}
